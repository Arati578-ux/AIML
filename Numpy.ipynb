{
  "nbformat": 4,
  "nbformat_minor": 0,
  "metadata": {
    "colab": {
      "provenance": []
    },
    "kernelspec": {
      "name": "python3",
      "display_name": "Python 3"
    },
    "language_info": {
      "name": "python"
    }
  },
  "cells": [
    {
      "cell_type": "code",
      "execution_count": null,
      "metadata": {
        "id": "0qgh_WkswmZf"
      },
      "outputs": [],
      "source": [
        "import numpy as np\n"
      ]
    },
    {
      "cell_type": "code",
      "source": [
        "A1=np.array([1,2,3,4])\n",
        "print(A1)"
      ],
      "metadata": {
        "colab": {
          "base_uri": "https://localhost:8080/"
        },
        "id": "21LncQw5xmNv",
        "outputId": "5dd39a28-2726-4e44-d282-c6f1ef95fe72"
      },
      "execution_count": null,
      "outputs": [
        {
          "output_type": "stream",
          "name": "stdout",
          "text": [
            "[1 2 3 4]\n"
          ]
        }
      ]
    },
    {
      "cell_type": "code",
      "source": [
        "type(A1)"
      ],
      "metadata": {
        "id": "iC553Ob0xx7-",
        "outputId": "e20d7f03-05fd-45fb-be91-4cbcecc799c1",
        "colab": {
          "base_uri": "https://localhost:8080/"
        }
      },
      "execution_count": null,
      "outputs": [
        {
          "output_type": "execute_result",
          "data": {
            "text/plain": [
              "numpy.ndarray"
            ]
          },
          "metadata": {},
          "execution_count": 3
        }
      ]
    },
    {
      "cell_type": "code",
      "source": [
        "A1.shape"
      ],
      "metadata": {
        "id": "CqEgHlR7xz4m",
        "colab": {
          "base_uri": "https://localhost:8080/"
        },
        "outputId": "ba17f483-c739-4567-e637-14cffe4ebe8c"
      },
      "execution_count": null,
      "outputs": [
        {
          "output_type": "execute_result",
          "data": {
            "text/plain": [
              "(4,)"
            ]
          },
          "metadata": {},
          "execution_count": 4
        }
      ]
    },
    {
      "cell_type": "code",
      "source": [
        "A1.size"
      ],
      "metadata": {
        "colab": {
          "base_uri": "https://localhost:8080/"
        },
        "id": "f2zgWUF-ycyX",
        "outputId": "b5ad5f91-e61d-4e25-a823-9761042eacb1"
      },
      "execution_count": null,
      "outputs": [
        {
          "output_type": "execute_result",
          "data": {
            "text/plain": [
              "4"
            ]
          },
          "metadata": {},
          "execution_count": 5
        }
      ]
    },
    {
      "cell_type": "code",
      "source": [
        "A2=np.array([[1,2,3,4],[5,6,7,8]])\n",
        "print(A2)"
      ],
      "metadata": {
        "colab": {
          "base_uri": "https://localhost:8080/"
        },
        "id": "-i6IBwdQyerm",
        "outputId": "8d897de1-4ea6-47bd-faef-aa967e3cdb59"
      },
      "execution_count": null,
      "outputs": [
        {
          "output_type": "stream",
          "name": "stdout",
          "text": [
            "[[1 2 3 4]\n",
            " [5 6 7 8]]\n"
          ]
        }
      ]
    },
    {
      "cell_type": "code",
      "source": [
        "A2.size"
      ],
      "metadata": {
        "colab": {
          "base_uri": "https://localhost:8080/"
        },
        "id": "mT8Q5Jeyyp7u",
        "outputId": "d496b1e1-a636-45c1-c9c6-89ee84294a4d"
      },
      "execution_count": null,
      "outputs": [
        {
          "output_type": "execute_result",
          "data": {
            "text/plain": [
              "8"
            ]
          },
          "metadata": {},
          "execution_count": 7
        }
      ]
    },
    {
      "cell_type": "code",
      "source": [
        "A2.ndim"
      ],
      "metadata": {
        "colab": {
          "base_uri": "https://localhost:8080/"
        },
        "id": "xCp6eAe9zEFG",
        "outputId": "93bc757c-4d67-4de6-d13e-1fbc8210579d"
      },
      "execution_count": null,
      "outputs": [
        {
          "output_type": "execute_result",
          "data": {
            "text/plain": [
              "2"
            ]
          },
          "metadata": {},
          "execution_count": 8
        }
      ]
    },
    {
      "cell_type": "code",
      "source": [
        "A2.shape"
      ],
      "metadata": {
        "colab": {
          "base_uri": "https://localhost:8080/"
        },
        "id": "hRrDF7DxzSR9",
        "outputId": "75602f36-5972-4317-fe71-ffca220f7ae7"
      },
      "execution_count": null,
      "outputs": [
        {
          "output_type": "execute_result",
          "data": {
            "text/plain": [
              "(2, 4)"
            ]
          },
          "metadata": {},
          "execution_count": 9
        }
      ]
    },
    {
      "cell_type": "code",
      "source": [
        "A3=np.array([[[1,2,3,4],[5,6,7,8]],[[9,10,11,12],[13,14,15,16]]])\n",
        "print(A3)\n"
      ],
      "metadata": {
        "colab": {
          "base_uri": "https://localhost:8080/"
        },
        "id": "T46uUMom0ACN",
        "outputId": "e40f2b00-33d7-4a2a-ccde-efeb641f9e8e"
      },
      "execution_count": null,
      "outputs": [
        {
          "output_type": "stream",
          "name": "stdout",
          "text": [
            "[[[ 1  2  3  4]\n",
            "  [ 5  6  7  8]]\n",
            "\n",
            " [[ 9 10 11 12]\n",
            "  [13 14 15 16]]]\n"
          ]
        }
      ]
    },
    {
      "cell_type": "code",
      "source": [
        "A3.ndim"
      ],
      "metadata": {
        "colab": {
          "base_uri": "https://localhost:8080/"
        },
        "id": "1mq_uwDf0H8l",
        "outputId": "30fb40f2-efb7-43ae-d72f-b6cabb315214"
      },
      "execution_count": null,
      "outputs": [
        {
          "output_type": "execute_result",
          "data": {
            "text/plain": [
              "3"
            ]
          },
          "metadata": {},
          "execution_count": 13
        }
      ]
    },
    {
      "cell_type": "code",
      "source": [
        "A3.shape"
      ],
      "metadata": {
        "colab": {
          "base_uri": "https://localhost:8080/"
        },
        "id": "hXsQ14IB0MF9",
        "outputId": "7f357697-1e83-4047-a6ec-b499f22e6702"
      },
      "execution_count": null,
      "outputs": [
        {
          "output_type": "execute_result",
          "data": {
            "text/plain": [
              "(2, 2, 4)"
            ]
          },
          "metadata": {},
          "execution_count": 14
        }
      ]
    },
    {
      "cell_type": "code",
      "source": [
        "A3.size"
      ],
      "metadata": {
        "colab": {
          "base_uri": "https://localhost:8080/"
        },
        "id": "eAU3gExN0jHt",
        "outputId": "64c20049-21a4-4d0d-c999-cbf58a4b9b4e"
      },
      "execution_count": null,
      "outputs": [
        {
          "output_type": "execute_result",
          "data": {
            "text/plain": [
              "16"
            ]
          },
          "metadata": {},
          "execution_count": 15
        }
      ]
    },
    {
      "cell_type": "markdown",
      "source": [],
      "metadata": {
        "id": "t0zyFvQW1SDO"
      }
    },
    {
      "cell_type": "code",
      "source": [
        "A4=np.array([[[[1,2,3],[5,6,7]],[[9,10,11],[13,14,15]]],[[[1,2,3],[5,6,7]],[[9,10,11],[13,14,15]]]])\n",
        "print(A4)"
      ],
      "metadata": {
        "colab": {
          "base_uri": "https://localhost:8080/"
        },
        "id": "G4C3ZYtT0p6-",
        "outputId": "63c8440e-2476-446c-f2d7-3f3b99cc91e6"
      },
      "execution_count": null,
      "outputs": [
        {
          "output_type": "stream",
          "name": "stdout",
          "text": [
            "[[[[ 1  2  3]\n",
            "   [ 5  6  7]]\n",
            "\n",
            "  [[ 9 10 11]\n",
            "   [13 14 15]]]\n",
            "\n",
            "\n",
            " [[[ 1  2  3]\n",
            "   [ 5  6  7]]\n",
            "\n",
            "  [[ 9 10 11]\n",
            "   [13 14 15]]]]\n"
          ]
        }
      ]
    },
    {
      "cell_type": "code",
      "source": [
        "A4.ndim"
      ],
      "metadata": {
        "colab": {
          "base_uri": "https://localhost:8080/"
        },
        "id": "ZwSxXjaU0w9l",
        "outputId": "b16354e7-e659-4794-f72c-366c20c0c408"
      },
      "execution_count": null,
      "outputs": [
        {
          "output_type": "execute_result",
          "data": {
            "text/plain": [
              "4"
            ]
          },
          "metadata": {},
          "execution_count": 22
        }
      ]
    },
    {
      "cell_type": "code",
      "source": [
        "A4.size"
      ],
      "metadata": {
        "colab": {
          "base_uri": "https://localhost:8080/"
        },
        "id": "KESTEw0V0y_m",
        "outputId": "e0886c55-e896-4e3f-8de8-b3720a6342cd"
      },
      "execution_count": null,
      "outputs": [
        {
          "output_type": "execute_result",
          "data": {
            "text/plain": [
              "24"
            ]
          },
          "metadata": {},
          "execution_count": 23
        }
      ]
    },
    {
      "cell_type": "code",
      "source": [
        "A4.shape"
      ],
      "metadata": {
        "colab": {
          "base_uri": "https://localhost:8080/"
        },
        "id": "4R_Vl2hA2Mze",
        "outputId": "bd3b20f2-5347-48b9-c71d-dc105201f134"
      },
      "execution_count": null,
      "outputs": [
        {
          "output_type": "execute_result",
          "data": {
            "text/plain": [
              "(2, 2, 2, 3)"
            ]
          },
          "metadata": {},
          "execution_count": 24
        }
      ]
    },
    {
      "cell_type": "code",
      "source": [
        "import numpy as np\n",
        "Z1=np.zeros(4)\n",
        "print(Z1)"
      ],
      "metadata": {
        "colab": {
          "base_uri": "https://localhost:8080/"
        },
        "id": "XBcvrwFF2Rq-",
        "outputId": "2a6da5ab-22c3-4709-e339-79be1be0b74f"
      },
      "execution_count": null,
      "outputs": [
        {
          "output_type": "stream",
          "name": "stdout",
          "text": [
            "[0. 0. 0. 0.]\n"
          ]
        }
      ]
    },
    {
      "cell_type": "code",
      "source": [
        "np.zeros(4,dtype=int)"
      ],
      "metadata": {
        "colab": {
          "base_uri": "https://localhost:8080/"
        },
        "id": "SVKwLh2K6AmW",
        "outputId": "9ab2d517-854d-4f71-a12b-f16f3ef3241a"
      },
      "execution_count": null,
      "outputs": [
        {
          "output_type": "execute_result",
          "data": {
            "text/plain": [
              "array([0, 0, 0, 0])"
            ]
          },
          "metadata": {},
          "execution_count": 26
        }
      ]
    },
    {
      "cell_type": "code",
      "source": [
        "Z1=np.zeros((2,3,4),dtype=int)\n",
        "print(Z1)"
      ],
      "metadata": {
        "colab": {
          "base_uri": "https://localhost:8080/"
        },
        "id": "-GXZ0lXl6SdO",
        "outputId": "b1555d72-7760-4b42-a676-61eea1a3aeec"
      },
      "execution_count": null,
      "outputs": [
        {
          "output_type": "stream",
          "name": "stdout",
          "text": [
            "[[[0 0 0 0]\n",
            "  [0 0 0 0]\n",
            "  [0 0 0 0]]\n",
            "\n",
            " [[0 0 0 0]\n",
            "  [0 0 0 0]\n",
            "  [0 0 0 0]]]\n"
          ]
        }
      ]
    },
    {
      "cell_type": "code",
      "source": [
        "Z1.size"
      ],
      "metadata": {
        "colab": {
          "base_uri": "https://localhost:8080/"
        },
        "id": "ysHj_y_A6dG2",
        "outputId": "99da9aa6-e11a-43cd-ad1c-6a09a0dbd8d6"
      },
      "execution_count": null,
      "outputs": [
        {
          "output_type": "execute_result",
          "data": {
            "text/plain": [
              "24"
            ]
          },
          "metadata": {},
          "execution_count": 34
        }
      ]
    },
    {
      "cell_type": "code",
      "source": [
        "Z1.shape"
      ],
      "metadata": {
        "colab": {
          "base_uri": "https://localhost:8080/"
        },
        "id": "ZYv2cH--78GG",
        "outputId": "e13c8cff-6f51-46cf-9cd3-46bbd2724860"
      },
      "execution_count": null,
      "outputs": [
        {
          "output_type": "execute_result",
          "data": {
            "text/plain": [
              "(2, 3, 4)"
            ]
          },
          "metadata": {},
          "execution_count": 36
        }
      ]
    },
    {
      "cell_type": "code",
      "source": [
        "a1=np.ones(3,dtype=int)\n",
        "print(a1)"
      ],
      "metadata": {
        "colab": {
          "base_uri": "https://localhost:8080/"
        },
        "id": "2YmFFAQV79k2",
        "outputId": "6a6879b4-a2c9-4c3c-abbc-9f07d237225a"
      },
      "execution_count": null,
      "outputs": [
        {
          "output_type": "stream",
          "name": "stdout",
          "text": [
            "[1 1 1]\n"
          ]
        }
      ]
    },
    {
      "cell_type": "code",
      "source": [
        "a1=np.ones([3,4],dtype=int)\n",
        "print(a1)"
      ],
      "metadata": {
        "colab": {
          "base_uri": "https://localhost:8080/"
        },
        "id": "RDmZZP3P8JAU",
        "outputId": "bc819171-c3bb-4621-c579-660d07d3cc84"
      },
      "execution_count": null,
      "outputs": [
        {
          "output_type": "stream",
          "name": "stdout",
          "text": [
            "[[1 1 1 1]\n",
            " [1 1 1 1]\n",
            " [1 1 1 1]]\n"
          ]
        }
      ]
    },
    {
      "cell_type": "code",
      "source": [
        "type(a1)"
      ],
      "metadata": {
        "colab": {
          "base_uri": "https://localhost:8080/"
        },
        "id": "rYi7C2ek8zi-",
        "outputId": "8d0fe77c-b63a-4582-82e7-1f540043c41c"
      },
      "execution_count": null,
      "outputs": [
        {
          "output_type": "execute_result",
          "data": {
            "text/plain": [
              "numpy.ndarray"
            ]
          },
          "metadata": {},
          "execution_count": 44
        }
      ]
    },
    {
      "cell_type": "code",
      "source": [
        " import numpy as np\n",
        " F1=np.full([5,6],72)\n",
        " print(F1)"
      ],
      "metadata": {
        "colab": {
          "base_uri": "https://localhost:8080/"
        },
        "id": "GIfvbHHN86iV",
        "outputId": "9a361dec-9531-418e-f58e-2bb328c98ec7"
      },
      "execution_count": null,
      "outputs": [
        {
          "output_type": "stream",
          "name": "stdout",
          "text": [
            "[[72 72 72 72 72 72]\n",
            " [72 72 72 72 72 72]\n",
            " [72 72 72 72 72 72]\n",
            " [72 72 72 72 72 72]\n",
            " [72 72 72 72 72 72]]\n"
          ]
        }
      ]
    },
    {
      "cell_type": "code",
      "source": [
        "F1=np.full([5,6,7],99)\n",
        "print(F1)"
      ],
      "metadata": {
        "colab": {
          "base_uri": "https://localhost:8080/"
        },
        "id": "hoe7twWi90o9",
        "outputId": "58e53f8f-0f7c-431e-d7bb-a53f7ed4a420"
      },
      "execution_count": null,
      "outputs": [
        {
          "output_type": "stream",
          "name": "stdout",
          "text": [
            "[[[99 99 99 99 99 99 99]\n",
            "  [99 99 99 99 99 99 99]\n",
            "  [99 99 99 99 99 99 99]\n",
            "  [99 99 99 99 99 99 99]\n",
            "  [99 99 99 99 99 99 99]\n",
            "  [99 99 99 99 99 99 99]]\n",
            "\n",
            " [[99 99 99 99 99 99 99]\n",
            "  [99 99 99 99 99 99 99]\n",
            "  [99 99 99 99 99 99 99]\n",
            "  [99 99 99 99 99 99 99]\n",
            "  [99 99 99 99 99 99 99]\n",
            "  [99 99 99 99 99 99 99]]\n",
            "\n",
            " [[99 99 99 99 99 99 99]\n",
            "  [99 99 99 99 99 99 99]\n",
            "  [99 99 99 99 99 99 99]\n",
            "  [99 99 99 99 99 99 99]\n",
            "  [99 99 99 99 99 99 99]\n",
            "  [99 99 99 99 99 99 99]]\n",
            "\n",
            " [[99 99 99 99 99 99 99]\n",
            "  [99 99 99 99 99 99 99]\n",
            "  [99 99 99 99 99 99 99]\n",
            "  [99 99 99 99 99 99 99]\n",
            "  [99 99 99 99 99 99 99]\n",
            "  [99 99 99 99 99 99 99]]\n",
            "\n",
            " [[99 99 99 99 99 99 99]\n",
            "  [99 99 99 99 99 99 99]\n",
            "  [99 99 99 99 99 99 99]\n",
            "  [99 99 99 99 99 99 99]\n",
            "  [99 99 99 99 99 99 99]\n",
            "  [99 99 99 99 99 99 99]]]\n"
          ]
        }
      ]
    },
    {
      "cell_type": "code",
      "source": [
        "a=np.array([1,2,3,4])\n",
        "b=np.array([5,6,7,8])\n",
        "add=np.add(a,b)\n",
        "print(add)\n",
        "sub=np.subtract(a,b)\n",
        "print(sub)\n",
        "mul=np.multiply(a,b)\n",
        "print(mul)\n",
        "div=np.divide(a,b)\n",
        "print(div)\n"
      ],
      "metadata": {
        "colab": {
          "base_uri": "https://localhost:8080/"
        },
        "id": "XObh9zWA96a1",
        "outputId": "b8f11740-ed16-41ea-cbb0-a172e6f35d0f"
      },
      "execution_count": null,
      "outputs": [
        {
          "output_type": "stream",
          "name": "stdout",
          "text": [
            "[ 6  8 10 12]\n",
            "[-4 -4 -4 -4]\n",
            "[ 5 12 21 32]\n",
            "[0.2        0.33333333 0.42857143 0.5       ]\n"
          ]
        }
      ]
    },
    {
      "cell_type": "code",
      "source": [],
      "metadata": {
        "id": "F6hLuhN7BAVm"
      },
      "execution_count": null,
      "outputs": []
    }
  ]
}